{
 "cells": [
  {
   "cell_type": "markdown",
   "metadata": {},
   "source": [
    "# Classification"
   ]
  },
  {
   "cell_type": "code",
   "execution_count": 2,
   "metadata": {},
   "outputs": [],
   "source": [
    "from pprint import pprint\n",
    "\n",
    "import sklearn.datasets\n",
    "import sklearn.metrics\n",
    "\n",
    "import autosklearn.classification"
   ]
  },
  {
   "cell_type": "code",
   "execution_count": 3,
   "metadata": {},
   "outputs": [],
   "source": [
    "X, y = sklearn.datasets.load_breast_cancer(return_X_y=True)\n",
    "X_train, X_test, y_train, y_test = \\\n",
    "    sklearn.model_selection.train_test_split(X, y, random_state=1)"
   ]
  },
  {
   "cell_type": "code",
   "execution_count": 5,
   "metadata": {},
   "outputs": [
    {
     "name": "stderr",
     "output_type": "stream",
     "text": [
      "Exception ignored in: <function AutoML.__del__ at 0x4081cfa670>\n",
      "Traceback (most recent call last):\n",
      "  File \"/usr/local/lib/python3.8/dist-packages/autosklearn/automl.py\", line 2024, in __del__\n",
      "    self._clean_logger()\n",
      "  File \"/usr/local/lib/python3.8/dist-packages/autosklearn/automl.py\", line 383, in _clean_logger\n",
      "    if self.logging_server.is_alive():\n",
      "  File \"/usr/lib/python3.8/multiprocessing/process.py\", line 160, in is_alive\n",
      "    assert self._parent_pid == os.getpid(), 'can only test a child process'\n",
      "AssertionError: can only test a child process\n",
      "/usr/local/lib/python3.8/dist-packages/autosklearn/metalearning/metalearning/meta_base.py:68: FutureWarning: The frame.append method is deprecated and will be removed from pandas in a future version. Use pandas.concat instead.\n",
      "  self.metafeatures = self.metafeatures.append(metafeatures)\n",
      "/usr/local/lib/python3.8/dist-packages/autosklearn/metalearning/metalearning/meta_base.py:72: FutureWarning: The frame.append method is deprecated and will be removed from pandas in a future version. Use pandas.concat instead.\n",
      "  self.algorithm_runs[metric].append(runs)\n"
     ]
    },
    {
     "data": {
      "text/plain": [
       "AutoSklearnClassifier(per_run_time_limit=20, time_left_for_this_task=120)"
      ]
     },
     "execution_count": 5,
     "metadata": {},
     "output_type": "execute_result"
    }
   ],
   "source": [
    "automl = autosklearn.classification.AutoSklearnClassifier(\n",
    "    time_left_for_this_task=120,\n",
    "    per_run_time_limit=20,\n",
    " #   tmp_folder='/tmp/autosklearn_classification_example_tmp',\n",
    ")\n",
    "automl.fit(X_train, y_train, dataset_name='breast_cancer')"
   ]
  },
  {
   "cell_type": "code",
   "execution_count": 6,
   "metadata": {},
   "outputs": [
    {
     "name": "stdout",
     "output_type": "stream",
     "text": [
      "          rank  ensemble_weight           type      cost   duration\n",
      "model_id                                                           \n",
      "7            1             0.72    extra_trees  0.014184   7.622484\n",
      "3            2             0.14            mlp  0.028369  14.597766\n",
      "8            3             0.04  random_forest  0.035461   9.653835\n",
      "9            4             0.10    extra_trees  0.042553   9.069583\n"
     ]
    }
   ],
   "source": [
    "print(automl.leaderboard())"
   ]
  },
  {
   "cell_type": "code",
   "execution_count": 7,
   "metadata": {},
   "outputs": [
    {
     "name": "stdout",
     "output_type": "stream",
     "text": [
      "{   3: {   'balancing': Balancing(random_state=1),\n",
      "           'classifier': <autosklearn.pipeline.components.classification.ClassifierChoice object at 0x4095647820>,\n",
      "           'cost': 0.028368794326241176,\n",
      "           'data_preprocessor': <autosklearn.pipeline.components.data_preprocessing.DataPreprocessorChoice object at 0x40901cd1f0>,\n",
      "           'ensemble_weight': 0.14,\n",
      "           'feature_preprocessor': <autosklearn.pipeline.components.feature_preprocessing.FeaturePreprocessorChoice object at 0x4095647e20>,\n",
      "           'model_id': 3,\n",
      "           'rank': 2,\n",
      "           'sklearn_classifier': MLPClassifier(activation='tanh', alpha=0.0001363185819149026, beta_1=0.999,\n",
      "              beta_2=0.9, early_stopping=True,\n",
      "              hidden_layer_sizes=(115, 115, 115),\n",
      "              learning_rate_init=0.00018009776276177523, max_iter=32,\n",
      "              n_iter_no_change=32, random_state=1, verbose=0, warm_start=True)},\n",
      "    7: {   'balancing': Balancing(random_state=1),\n",
      "           'classifier': <autosklearn.pipeline.components.classification.ClassifierChoice object at 0x408386ae20>,\n",
      "           'cost': 0.014184397163120588,\n",
      "           'data_preprocessor': <autosklearn.pipeline.components.data_preprocessing.DataPreprocessorChoice object at 0x408862ba00>,\n",
      "           'ensemble_weight': 0.72,\n",
      "           'feature_preprocessor': <autosklearn.pipeline.components.feature_preprocessing.FeaturePreprocessorChoice object at 0x408862bdc0>,\n",
      "           'model_id': 7,\n",
      "           'rank': 1,\n",
      "           'sklearn_classifier': ExtraTreesClassifier(max_features=34, min_samples_leaf=3, min_samples_split=11,\n",
      "                     n_estimators=512, n_jobs=1, random_state=1,\n",
      "                     warm_start=True)},\n",
      "    8: {   'balancing': Balancing(random_state=1, strategy='weighting'),\n",
      "           'classifier': <autosklearn.pipeline.components.classification.ClassifierChoice object at 0x4082034d30>,\n",
      "           'cost': 0.03546099290780147,\n",
      "           'data_preprocessor': <autosklearn.pipeline.components.data_preprocessing.DataPreprocessorChoice object at 0x40901e1970>,\n",
      "           'ensemble_weight': 0.04,\n",
      "           'feature_preprocessor': <autosklearn.pipeline.components.feature_preprocessing.FeaturePreprocessorChoice object at 0x40839018e0>,\n",
      "           'model_id': 8,\n",
      "           'rank': 3,\n",
      "           'sklearn_classifier': RandomForestClassifier(max_features=2, min_samples_leaf=2, n_estimators=512,\n",
      "                       n_jobs=1, random_state=1, warm_start=True)},\n",
      "    9: {   'balancing': Balancing(random_state=1, strategy='weighting'),\n",
      "           'classifier': <autosklearn.pipeline.components.classification.ClassifierChoice object at 0x40956743a0>,\n",
      "           'cost': 0.04255319148936165,\n",
      "           'data_preprocessor': <autosklearn.pipeline.components.data_preprocessing.DataPreprocessorChoice object at 0x408389dca0>,\n",
      "           'ensemble_weight': 0.1,\n",
      "           'feature_preprocessor': <autosklearn.pipeline.components.feature_preprocessing.FeaturePreprocessorChoice object at 0x4082034f10>,\n",
      "           'model_id': 9,\n",
      "           'rank': 4,\n",
      "           'sklearn_classifier': ExtraTreesClassifier(max_features=9, min_samples_split=10, n_estimators=512,\n",
      "                     n_jobs=1, random_state=1, warm_start=True)}}\n"
     ]
    }
   ],
   "source": [
    "pprint(automl.show_models(), indent=4)"
   ]
  },
  {
   "cell_type": "code",
   "execution_count": 8,
   "metadata": {},
   "outputs": [
    {
     "name": "stdout",
     "output_type": "stream",
     "text": [
      "Accuracy score: 0.951048951048951\n"
     ]
    }
   ],
   "source": [
    "predictions = automl.predict(X_test)\n",
    "print(\"Accuracy score:\", sklearn.metrics.accuracy_score(y_test, predictions))"
   ]
  },
  {
   "cell_type": "code",
   "execution_count": 4,
   "metadata": {},
   "outputs": [
    {
     "data": {
      "text/plain": [
       "array([[1.799e+01, 1.038e+01, 1.228e+02, ..., 2.654e-01, 4.601e-01,\n",
       "        1.189e-01],\n",
       "       [2.057e+01, 1.777e+01, 1.329e+02, ..., 1.860e-01, 2.750e-01,\n",
       "        8.902e-02],\n",
       "       [1.969e+01, 2.125e+01, 1.300e+02, ..., 2.430e-01, 3.613e-01,\n",
       "        8.758e-02],\n",
       "       ...,\n",
       "       [1.660e+01, 2.808e+01, 1.083e+02, ..., 1.418e-01, 2.218e-01,\n",
       "        7.820e-02],\n",
       "       [2.060e+01, 2.933e+01, 1.401e+02, ..., 2.650e-01, 4.087e-01,\n",
       "        1.240e-01],\n",
       "       [7.760e+00, 2.454e+01, 4.792e+01, ..., 0.000e+00, 2.871e-01,\n",
       "        7.039e-02]])"
      ]
     },
     "execution_count": 4,
     "metadata": {},
     "output_type": "execute_result"
    }
   ],
   "source": [
    "X"
   ]
  },
  {
   "cell_type": "code",
   "execution_count": null,
   "metadata": {},
   "outputs": [],
   "source": []
  }
 ],
 "metadata": {
  "interpreter": {
   "hash": "17537b59a2032bbc7e1e402562b716ee2ffafcb7a718ba71176ad13793621877"
  },
  "kernelspec": {
   "display_name": "Python 3 (ipykernel)",
   "language": "python",
   "name": "python3"
  },
  "language_info": {
   "codemirror_mode": {
    "name": "ipython",
    "version": 3
   },
   "file_extension": ".py",
   "mimetype": "text/x-python",
   "name": "python",
   "nbconvert_exporter": "python",
   "pygments_lexer": "ipython3",
   "version": "3.8.10"
  }
 },
 "nbformat": 4,
 "nbformat_minor": 2
}
