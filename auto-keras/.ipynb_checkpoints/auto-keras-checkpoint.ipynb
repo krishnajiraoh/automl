{
 "cells": [
  {
   "cell_type": "code",
   "execution_count": 1,
   "id": "1cfe32dc",
   "metadata": {},
   "outputs": [],
   "source": [
    "import numpy as np\n",
    "import pandas as pd\n",
    "#import tensorflow as tf\n",
    "\n",
    "#import autokeras as ak\n"
   ]
  },
  {
   "cell_type": "code",
   "execution_count": 2,
   "id": "888c32fa",
   "metadata": {},
   "outputs": [],
   "source": [
    "import multiprocessing\n",
    "multiprocessing.set_start_method('forkserver') "
   ]
  },
  {
   "cell_type": "code",
   "execution_count": null,
   "id": "e13903f6",
   "metadata": {},
   "outputs": [],
   "source": [
    "#import tensorflow as tf\n",
    "\n",
    "import autokeras as ak"
   ]
  },
  {
   "cell_type": "code",
   "execution_count": null,
   "id": "a3c27de7",
   "metadata": {},
   "outputs": [],
   "source": []
  }
 ],
 "metadata": {
  "kernelspec": {
   "display_name": "Python 3",
   "language": "python",
   "name": "python3"
  },
  "language_info": {
   "codemirror_mode": {
    "name": "ipython",
    "version": 3
   },
   "file_extension": ".py",
   "mimetype": "text/x-python",
   "name": "python",
   "nbconvert_exporter": "python",
   "pygments_lexer": "ipython3",
   "version": "3.6.9"
  }
 },
 "nbformat": 4,
 "nbformat_minor": 5
}
